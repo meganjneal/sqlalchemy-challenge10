 # Part 1: Database Setup and Precipitation Analysis  
 # Import dependencies  
 import numpy as np  
 import pandas as pd  
 import datetime as dt  
 import sqlalchemy  
 from sqlalchemy.ext.automap import automap_base  
 from sqlalchemy.orm import Session  
 from sqlalchemy import create_engine, func  
 import matplotlib.pyplot as plt  
   
 # Create engine to hawaii.sqlite  
 engine = create_engine("sqlite:///hawaii.sqlite")  
   
 # Reflect database into new model  
 Base = automap_base()  
 Base.prepare(engine, reflect=True)  
   
 # Save references to each table  
 Measurement = Base.classes.measurement  
 Station = Base.classes.station  
   
 # Create session link from Python to DB  
 session = Session(engine)  
   
 # Find the most recent date in the dataset  
 most_recent_date = session.query(Measurement.date).order_by(Measurement.date.desc()).first()  
 print("Most recent date:", most_recent_date[0])  
   
 # Calculate the date one year from the last date in data set  
 # Convert the string to datetime  
 latest_date = dt.datetime.strptime(most_recent_date[0], '%Y-%m-%d')  
 one_year_ago = latest_date - dt.timedelta(days=365)  
   
 # Perform a query to retrieve the data and precipitation scores  
 results = session.query(Measurement.date, Measurement.prcp).\  
     filter(Measurement.date >= one_year_ago).\  
     order_by(Measurement.date).all()  
   
 # Save the query results as a Pandas DataFrame  
 df = pd.DataFrame(results, columns=['date', 'precipitation'])  
 df.set_index('date', inplace=True)  
   
 # Plot the results  
 plt.figure(figsize=(10,6))  
 df.plot(kind='bar', width=3)  
 plt.title('Precipitation Over Last 12 Months')  
 plt.xlabel('Date')  
 plt.ylabel('Inches')  
 plt.xticks(rotation=45)  
 plt.tight_layout()  
 plt.show()  
   
 # Print summary statistics  
 print("\nPrecipitation Summary Statistics:")  
 print(df.describe())  
   
 # Station Analysis  
 # Calculate total number of stations  
 total_stations = session.query(func.count(Station.station)).scalar()  
 print(f"\nTotal number of stations: {total_stations}")  
   
 # Find the most active station  
 most_active = session.query(Measurement.station, func.count(Measurement.station)).\  
     group_by(Measurement.station).\  
     order_by(func.count(Measurement.station).desc()).first()  
 print(f"\nMost active station: {most_active[0]}")  
   
 # Calculate lowest, highest, and average temperature for most active station  
 temp_stats = session.query(func.min(Measurement.tobs),   
                          func.max(Measurement.tobs),   
                          func.avg(Measurement.tobs)).\  
     filter(Measurement.station == most_active[0]).all()  
 print(f"\nLowest temperature: {temp_stats[0][0]}°F")  
 print(f"Highest temperature: {temp_stats[0][1]}°F")  
 print(f"Average temperature: {round(temp_stats[0][2], 2)}°F")  
   
 # Get last 12 months of temperature observations for most active station  
 temp_results = session.query(Measurement.tobs).\  
     filter(Measurement.station == most_active[0]).\  
     filter(Measurement.date >= one_year_ago).all()  
   
 # Convert to list for histogram  
 temps = [temp[0] for temp in temp_results]  
   
 # Plot histogram  
 plt.figure(figsize=(10,6))  
 plt.hist(temps, bins=12)  
 plt.title(f'Temperature Observations for Station {most_active[0]}')  
 plt.xlabel('Temperature (°F)')  
 plt.ylabel('Frequency')  
 plt.tight_layout()  
 plt.show()  
   
 # Close Session  
 session.close()  
